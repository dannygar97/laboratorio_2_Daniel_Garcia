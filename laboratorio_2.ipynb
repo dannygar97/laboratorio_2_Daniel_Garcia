{
 "cells": [
  {
   "attachments": {},
   "cell_type": "markdown",
   "metadata": {},
   "source": [
    "# Laboratorio #2 Daniel Garcia "
   ]
  },
  {
   "attachments": {},
   "cell_type": "markdown",
   "metadata": {},
   "source": [
    "### Problema 1, Haga un programa en Python que reciba de parametro un numero de segundos y que despliegue en pantalla, las horas, minutos y segundos que representan. Por ejemplo:\n",
    "### Si el numero de segundos recibidos fuera: 2743 entonces su programa deberıa desplegar:\n",
    "### Horas: 0, Minutos: 45 , Segundos: 43\n",
    "### Si el numero de segundos recibidos fuera 5871: Horas: 1, Minutos: 37 , Segundos: 51"
   ]
  },
  {
   "cell_type": "code",
   "execution_count": 35,
   "metadata": {},
   "outputs": [
    {
     "name": "stdout",
     "output_type": "stream",
     "text": [
      "El valor ingresado no es numerico\n"
     ]
    }
   ],
   "source": [
    "try: \n",
    "    segundos = int(input(\"ingrese un dato para segundos\"))\n",
    "    if segundos < 0:\n",
    "        raise ValueError(\"el valor debe ser positivo\")\n",
    "    elif segundos > 86400:\n",
    "        raise  OverflowError(\"el valor es mas de un dia\")\n",
    "    else:\n",
    "        def conversion(segundos):\n",
    "            horas = segundos // 3600\n",
    "            segundos_restantes  = segundos % 3600\n",
    "            minutos = segundos_restantes //60 \n",
    "            segundos_final = segundos_restantes % 60\n",
    "            print( \"Horas: {}, Minuto: {}, Segundos: {}\".format(horas,minutos,segundos_final))\n",
    "    conversion(segundos)\n",
    "except ValueError:\n",
    "    print(\"El valor ingresado no es numerico\")\n",
    "except OverflowError:\n",
    "    print(\"el valor ingresado es mayor de un dia\")\n",
    "except:\n",
    "    print(\"ocurrio un error\")\n",
    "\n"
   ]
  },
  {
   "attachments": {},
   "cell_type": "markdown",
   "metadata": {},
   "source": [
    "### problema 2 \n",
    "### Haga una funcion en Python que dado un numero entre 1 y 20. Y un caracter cualquiera\n",
    "### despliegue cuatro patrones triangulares.\n",
    "### Por ejemplo si el usuario ingresara el numero 4 y el s´ımbolo * el programa deber´a desplegar\n",
    "### lo siguiente:"
   ]
  },
  {
   "cell_type": "code",
   "execution_count": 36,
   "metadata": {},
   "outputs": [
    {
     "ename": "ValueError",
     "evalue": "invalid literal for int() with base 10: ''",
     "output_type": "error",
     "traceback": [
      "\u001b[1;31m---------------------------------------------------------------------------\u001b[0m",
      "\u001b[1;31mValueError\u001b[0m                                Traceback (most recent call last)",
      "\u001b[1;32m~\\AppData\\Local\\Temp\\ipykernel_10308\\3147431872.py\u001b[0m in \u001b[0;36m<module>\u001b[1;34m\u001b[0m\n\u001b[0;32m     33\u001b[0m         \u001b[0mprint\u001b[0m\u001b[1;33m(\u001b[0m\u001b[0mlinea\u001b[0m\u001b[1;33m)\u001b[0m\u001b[1;33m\u001b[0m\u001b[1;33m\u001b[0m\u001b[0m\n\u001b[0;32m     34\u001b[0m     \u001b[0mprint\u001b[0m\u001b[1;33m(\u001b[0m\u001b[1;34m\"\\n\"\u001b[0m\u001b[1;33m)\u001b[0m\u001b[1;33m\u001b[0m\u001b[1;33m\u001b[0m\u001b[0m\n\u001b[1;32m---> 35\u001b[1;33m \u001b[0mpatron\u001b[0m \u001b[1;33m=\u001b[0m \u001b[0mint\u001b[0m\u001b[1;33m(\u001b[0m\u001b[0minput\u001b[0m\u001b[1;33m(\u001b[0m\u001b[1;34m\"ingrese un numero entre 1 y 20\"\u001b[0m\u001b[1;33m)\u001b[0m\u001b[1;33m)\u001b[0m\u001b[1;33m\u001b[0m\u001b[1;33m\u001b[0m\u001b[0m\n\u001b[0m\u001b[0;32m     36\u001b[0m \u001b[0msimbolo\u001b[0m \u001b[1;33m=\u001b[0m \u001b[0minput\u001b[0m\u001b[1;33m(\u001b[0m\u001b[1;34m\"ingrese el simbolo del  que desee su patron\"\u001b[0m\u001b[1;33m)\u001b[0m\u001b[1;33m\u001b[0m\u001b[1;33m\u001b[0m\u001b[0m\n\u001b[0;32m     37\u001b[0m \u001b[0mtriangulo\u001b[0m\u001b[1;33m(\u001b[0m\u001b[0mpatron\u001b[0m\u001b[1;33m,\u001b[0m\u001b[0msimbolo\u001b[0m\u001b[1;33m)\u001b[0m\u001b[1;33m\u001b[0m\u001b[1;33m\u001b[0m\u001b[0m\n",
      "\u001b[1;31mValueError\u001b[0m: invalid literal for int() with base 10: ''"
     ]
    }
   ],
   "source": [
    "def triangulo(patron,simbolo):\n",
    "    for i in range (1,patron+1):\n",
    "        linea = \"\"\n",
    "        for j in range(i):\n",
    "            linea += simbolo \n",
    "        print(linea)\n",
    "    print(\"\\n\")\n",
    "\n",
    "    for i in range (patron,0,-1):\n",
    "        linea = \"\"\n",
    "        for j in range(i):\n",
    "            linea += simbolo \n",
    "        print(linea)\n",
    "    print(\"\\n\")\n",
    "\n",
    "    for i in range (patron):\n",
    "        linea = \"\"\n",
    "        for j in range(patron):\n",
    "            if j < patron - i -1 :\n",
    "                linea += \" \"\n",
    "            else:\n",
    "                linea += simbolo \n",
    "        print(linea)\n",
    "    print(\"\\n\")\n",
    "\n",
    "    for i in range (patron,0,-1):\n",
    "        linea = \"\"\n",
    "        for j in range(patron):\n",
    "            if j < patron - i:\n",
    "                linea += \" \" \n",
    "            else:\n",
    "                linea += simbolo               \n",
    "        print(linea)\n",
    "    print(\"\\n\")\n",
    "patron = int(input(\"ingrese un numero entre 1 y 20\"))\n",
    "simbolo = input(\"ingrese el simbolo del  que desee su patron\")\n",
    "triangulo(patron,simbolo)"
   ]
  },
  {
   "attachments": {},
   "cell_type": "markdown",
   "metadata": {},
   "source": [
    "### Problema 3 \n",
    "### Haga un programa en Python que la fecha de nacimiento de una persona (puede ingresar por separado cada valor, es decir pedir primero dıa, luego mes y luego an˜o), despliegue la edad de la persona en an˜os, meses y dıas. Su resultado puede ser aproximado."
   ]
  },
  {
   "cell_type": "code",
   "execution_count": 43,
   "metadata": {},
   "outputs": [],
   "source": [
    "from datetime import datetime   #usar libreria datetime"
   ]
  },
  {
   "cell_type": "code",
   "execution_count": 45,
   "metadata": {},
   "outputs": [
    {
     "name": "stdout",
     "output_type": "stream",
     "text": [
      "la edad de la persona es : 25 anios, 3meses, 29 dias.\n"
     ]
    }
   ],
   "source": [
    "#pedir datos a usuario\n",
    "dia = int(input(\"ingrese el dia de su nacimiento: \"))\n",
    "mes = int(input(\"ingrese el mes en numero de su nacimiento\"))\n",
    "anio = int(input(\"ingrese el anio de su nacimiento: \"))\n",
    "\n",
    "fecha_nacimiento = datetime(anio,mes,dia)\n",
    "fecha_actual = datetime.now() #para importar la fecha actual\n",
    "\n",
    "resta = fecha_actual-fecha_nacimiento\n",
    "\n",
    "edad_anios = resta.days // 365\n",
    "edad_meses = (resta.days % 365)//30\n",
    "edad_dias = (resta.days %365)%30\n",
    "print(\"la edad de la persona es : {} anios, {}meses, {} dias.\".format(edad_anios,edad_meses, edad_dias))\n"
   ]
  },
  {
   "attachments": {},
   "cell_type": "markdown",
   "metadata": {},
   "source": [
    "### PROBLEMA 4 \n",
    "### Escriba una funcion en Python que dada una tupla de elementos (numeros o letras) esta se convierta a un string. Tomar nota del siguiente ejemplo: Si la entrada fuera: (10, 20, 40, 5, 70) La salida deber´ıa ser: 102040570"
   ]
  },
  {
   "cell_type": "code",
   "execution_count": 51,
   "metadata": {},
   "outputs": [
    {
     "data": {
      "text/plain": [
       "'543610'"
      ]
     },
     "execution_count": 51,
     "metadata": {},
     "output_type": "execute_result"
    }
   ],
   "source": [
    "tupla_strg=input(\"ingrese los datos de la tupla separada por coma\")\n",
    "tupla = tuple(map(int,tupla_strg.split(\",\"))) #tengo la tupla ingresada y separada por las comas\n",
    "#el map me permite aplicar una funcion a los elementos, en este caso hacerlos enteros\n",
    "tupla_unida = ''.join(map(str,tupla))\n",
    "tupla_unida\n"
   ]
  },
  {
   "attachments": {},
   "cell_type": "markdown",
   "metadata": {},
   "source": [
    "### Problema 5 \n",
    "#### Cree un programa en Python que dada una lista de tuplas, elimine las tuplas que est´an vac´ıas. Tomar nota del siguiente ejemplo: Si la lista fuera: [(), (), (’X’,), (’a’, ’b’), (’a’, ’b’, ’c’), (’d’)] El resultado deber´ıa ser: [(’X’), (’a’, ’b’), (’a’, ’b’, ’c’), ’d’]"
   ]
  },
  {
   "cell_type": "code",
   "execution_count": 55,
   "metadata": {},
   "outputs": [
    {
     "name": "stdout",
     "output_type": "stream",
     "text": [
      "[(10, 5, 6, 4), (35, 78, 15), (10,), 'd', (45, 'j')]\n"
     ]
    }
   ],
   "source": [
    "\n",
    "tupla_lista = [(),(),(10,5,6,4),(35,78,15),(10,),('d'),(),(),(45,'j')]\n",
    "filtrado = [tupla for tupla in tupla_lista  if len(tupla)>0 ]\n",
    "print (filtrado)"
   ]
  },
  {
   "attachments": {},
   "cell_type": "markdown",
   "metadata": {},
   "source": [
    "### problema 6\n",
    "#### Cree una funci´on en Python que dada una tupla de tuplas con nu´meros, produzca una tuplacon el promedio de cada tupla individual. Tomar nota del siguiente ejemplo:Si la tupla de entrada fuera: ((10, 10, 10, 12), (30, 45, 56, 45), (81, 80, 39, 32)) El resultado deber´ıa ser: (10.5, 44, 58)\n"
   ]
  },
  {
   "cell_type": "code",
   "execution_count": 58,
   "metadata": {},
   "outputs": [
    {
     "name": "stdout",
     "output_type": "stream",
     "text": [
      "(11.75, 22.75, 33.4, 5.6)\n"
     ]
    }
   ],
   "source": [
    "def prom_tuplas(tupla_principal):\n",
    "    promedios = []\n",
    "    for tupla in tupla_principal:\n",
    "        promedio = sum(tupla)/len(tupla)\n",
    "        promedios.append(promedio)\n",
    "    return tuple(promedios)\n",
    "tupla_principal = ((10,10,12,15),(46,35,2,8,),(5,10,84,63,5),(4,6,7,6,5))\n",
    "resultado = prom_tuplas(tupla_principal)\n",
    "print(resultado)\n",
    "\n"
   ]
  },
  {
   "attachments": {},
   "cell_type": "markdown",
   "metadata": {},
   "source": [
    "### Problema 7\n",
    "##### Escribir un programa que gestione las facturas pendientes de cobro de una empresa. Las facturas se almacenar´an en un diccionario donde la llave de cada factura ser´a el nu´mero de factura (debe utilizar un numero de 4 d´ıgitos) y el valor el coste de la factura. El programa debe preguntar al usuario si quiere an˜adir una nueva factura, pagar una existente o terminar. Si desea an˜adir una nueva factura se preguntar´a por el nu´mero de factura y su coste y se an˜adir´a al diccionario, para confirmar que la factura se ingreso correctamente el programa debe desplegar el diccionario completo. Si se desea pagar una factura se preguntar´a por el nu´mero de factura y se eliminar´a del diccionario. Despu´es de cada operaci´on el programa debe mostrar en pantalla la cantidad cobrada hasta el momento y la cantidad pendiente de cobro. Puede utilizar otras estructuras de datos como apoyo si lo considera necesario."
   ]
  },
  {
   "cell_type": "code",
   "execution_count": 9,
   "metadata": {},
   "outputs": [
    {
     "name": "stdout",
     "output_type": "stream",
     "text": [
      "seleccione opcion\n",
      "1. aniadir una factura\n",
      "2. pagar factura existente\n",
      "3. terminar\n",
      "factura agregada correctamente\n",
      "facturas pendiente de cobro: {'5454': 1100.0}\n",
      "cantidad cobrado al momento: 0\n",
      "pendiente de cobro:  1100.0\n",
      "seleccione opcion\n",
      "1. aniadir una factura\n",
      "2. pagar factura existente\n",
      "3. terminar\n",
      "factura agregada correctamente\n",
      "facturas pendiente de cobro: {'5454': 1100.0, '5656': 3500.0}\n",
      "cantidad cobrado al momento: 0\n",
      "pendiente de cobro:  4600.0\n",
      "seleccione opcion\n",
      "1. aniadir una factura\n",
      "2. pagar factura existente\n",
      "3. terminar\n",
      "factura pagada correctamente\n",
      "se pago un costo de: 1100.0\n",
      "facturas pendiente de cobro: {'5656': 3500.0}\n",
      "cantidad cobrado al momento: 1100.0\n",
      "pendiente de cobro:  3500.0\n",
      "seleccione opcion\n",
      "1. aniadir una factura\n",
      "2. pagar factura existente\n",
      "3. terminar\n",
      "programa terminado\n"
     ]
    }
   ],
   "source": [
    "facturas = {}\n",
    "facturas_pagadas = {}\n",
    "while True:\n",
    "    print(\"seleccione opcion\")\n",
    "    print(\"1. aniadir una factura\")\n",
    "    print(\"2. pagar factura existente\")\n",
    "    print(\"3. terminar\")\n",
    "\n",
    "    opcion = input(\"ingrese el numero de la opcion\")\n",
    "    if opcion == \"1\":\n",
    "        num_factura = input(\"ingrese un numero de factura de 4 digitos :\")\n",
    "        while len(num_factura) != 4:\n",
    "            num_factura = input(\"el numero debe tener 4 digitos\")\n",
    "        costo_factura = float(input(\"ingrese el costo de la factura: \"))\n",
    "        facturas[num_factura] = costo_factura\n",
    "        print(\"factura agregada correctamente\")\n",
    "        print(\"facturas pendiente de cobro:\", facturas)\n",
    "\n",
    "    elif opcion == \"2\":\n",
    "        num_factura = input(\"ingrese numero de factura a pagar:\")\n",
    "        if num_factura in facturas:\n",
    "            pago = float(input(\"ingrese cantidad a pagar:\"))\n",
    "            if num_factura in facturas_pagadas:\n",
    "                facturas_pagadas[num_factura] += pago\n",
    "            else:\n",
    "                facturas_pagadas[num_factura] = pago\n",
    "            if facturas_pagadas[num_factura] >= facturas[num_factura]:\n",
    "                del facturas[num_factura]\n",
    "            print(\"factura pagada correctamente\")\n",
    "            print(\"se pago un costo de:\", pago)\n",
    "            print(\"facturas pendiente de cobro:\", facturas)\n",
    "        else:\n",
    "            print(\"el numero de factura ingresado no existe.\")\n",
    "    elif opcion == \"3\":\n",
    "        print(\"programa terminado\")\n",
    "        break\n",
    "    else:\n",
    "        print(\"opcion invalida, intentar de nuevo.\")\n",
    "    total_cobrado = sum(facturas_pagadas.values())\n",
    "    total_pendiente = sum(facturas.values())\n",
    "    print(\"cantidad cobrado al momento:\", total_cobrado)\n",
    "    print(\"pendiente de cobro: \", total_pendiente)\n"
   ]
  },
  {
   "attachments": {},
   "cell_type": "markdown",
   "metadata": {},
   "source": [
    "### problema 8\n",
    "#### . Haga una funci´on en Python, que cree un set con todas las cartas de una baraja de Pocker utilizando el siguiente formato: Tipo-Numero. Utilice las letras T para tr´eboles, C paracorazones, P para picas y E para espadas. Para los nu´meros utilice la numeraci´on del 1 al 13. Por ejemplo E13 - ser´ıa Rey de Espadas, P01 ser´ıa As de Picas, T05 ser´ıa cinco de Tr´eboles. Posteriormente cree una funci´on que dado el conjunto anterior cree dos sets nuevos de cartas, cada conjunto debe tener una cantidad variable de elementos, puede utilizar nu´meros aleatorios enteros para definir la longitud de los conjuntos. Adicionalmente, deber´a calcular la probabilidad de la intersecci´on de ambos conjuntos y demuestre si son eventos independientes con la regla del producto. Para concluir, calcule probabilidad de la uni´on de ambos conjuntos y demuestre que se cumple la regla de la adici´on."
   ]
  },
  {
   "cell_type": "code",
   "execution_count": 13,
   "metadata": {},
   "outputs": [],
   "source": [
    "def crear_baraja():\n",
    "    baraja = set()\n",
    "    tipos = [\"T\",\"C\",\"P\",\"E\"]\n",
    "    for tipo in tipos:\n",
    "        for num in range(1,14,1):\n",
    "            carta = tipo + \"{:02d}\".format(num)\n",
    "            baraja.add(carta)\n",
    "    return baraja"
   ]
  },
  {
   "cell_type": "code",
   "execution_count": 16,
   "metadata": {},
   "outputs": [
    {
     "name": "stdout",
     "output_type": "stream",
     "text": [
      "Conjunto 1: {'T09', 'P09', 'P02', 'E04', 'C03', 'E06', 'C08', 'C06', 'E05', 'P12', 'E09', 'T04'}\n",
      "Conjunto 2: {'T02', 'E04', 'E13', 'T06', 'C11', 'C04', 'T13', 'T01', 'E12'}\n",
      "Probabilidad de intersección: 0.009259259259259259\n",
      "Los eventos no son independientes\n",
      "Probabilidad de unión: 0.38461538461538464\n",
      "La regla de la adición no se cumple\n"
     ]
    },
    {
     "name": "stderr",
     "output_type": "stream",
     "text": [
      "C:\\Users\\Windows 10\\AppData\\Local\\Temp\\ipykernel_12196\\1470285224.py:15: DeprecationWarning: Sampling from a set deprecated\n",
      "since Python 3.9 and will be removed in a subsequent version.\n",
      "  conjunto1 = set(random.sample(baraja, longitud1))\n",
      "C:\\Users\\Windows 10\\AppData\\Local\\Temp\\ipykernel_12196\\1470285224.py:16: DeprecationWarning: Sampling from a set deprecated\n",
      "since Python 3.9 and will be removed in a subsequent version.\n",
      "  conjunto2 = set(random.sample(baraja, longitud2))\n"
     ]
    }
   ],
   "source": [
    "import random\n",
    "\n",
    "def crear_baraja():\n",
    "    baraja = set()\n",
    "    tipos = [\"T\", \"C\", \"P\", \"E\"]\n",
    "    for tipo in tipos:\n",
    "        for num in range(1, 14):\n",
    "            carta = tipo + str(num).zfill(2)\n",
    "            baraja.add(carta)\n",
    "    return baraja\n",
    "\n",
    "def crear_conjuntos(baraja):\n",
    "    longitud1 = random.randint(1, len(baraja))\n",
    "    longitud2 = random.randint(1, len(baraja))\n",
    "    conjunto1 = set(random.sample(baraja, longitud1))\n",
    "    conjunto2 = set(random.sample(baraja, longitud2))\n",
    "    return conjunto1, conjunto2\n",
    "\n",
    "def calcular_probabilidad_interseccion(conjunto1, conjunto2):\n",
    "    interseccion = conjunto1.intersection(conjunto2)\n",
    "    prob_interseccion = len(interseccion) / len(conjunto1) / len(conjunto2)\n",
    "    return prob_interseccion\n",
    "\n",
    "def demostrar_independencia(prob_interseccion, prob_conjunto1, prob_conjunto2):\n",
    "    if prob_conjunto1 * prob_conjunto2 == prob_interseccion:\n",
    "        print(\"Los eventos son independientes\")\n",
    "    else:\n",
    "        print(\"Los eventos no son independientes\")\n",
    "\n",
    "def calcular_probabilidad_union(conjunto1, conjunto2):\n",
    "    union = conjunto1.union(conjunto2)\n",
    "    prob_union = len(union) / len(baraja)\n",
    "    return prob_union\n",
    "\n",
    "baraja = crear_baraja()\n",
    "conjunto1, conjunto2 = crear_conjuntos(baraja)\n",
    "print(\"Conjunto 1:\", conjunto1)\n",
    "print(\"Conjunto 2:\", conjunto2)\n",
    "\n",
    "prob_conjunto1 = len(conjunto1) / len(baraja)\n",
    "prob_conjunto2 = len(conjunto2) / len(baraja)\n",
    "\n",
    "prob_interseccion = calcular_probabilidad_interseccion(conjunto1, conjunto2)\n",
    "print(\"Probabilidad de intersección:\", prob_interseccion)\n",
    "demostrar_independencia(prob_interseccion, prob_conjunto1, prob_conjunto2)\n",
    "\n",
    "prob_union = calcular_probabilidad_union(conjunto1, conjunto2)\n",
    "print(\"Probabilidad de unión:\", prob_union)\n",
    "if prob_union == prob_conjunto1 + prob_conjunto2 - prob_interseccion:\n",
    "    print(\"La regla de la adición se cumple\")\n",
    "else:\n",
    "    print(\"La regla de la adición no se cumple\")\n",
    "\n"
   ]
  }
 ],
 "metadata": {
  "kernelspec": {
   "display_name": "base",
   "language": "python",
   "name": "python3"
  },
  "language_info": {
   "codemirror_mode": {
    "name": "ipython",
    "version": 3
   },
   "file_extension": ".py",
   "mimetype": "text/x-python",
   "name": "python",
   "nbconvert_exporter": "python",
   "pygments_lexer": "ipython3",
   "version": "3.9.13"
  },
  "orig_nbformat": 4
 },
 "nbformat": 4,
 "nbformat_minor": 2
}
